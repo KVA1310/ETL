{
  "nbformat": 4,
  "nbformat_minor": 0,
  "metadata": {
    "colab": {
      "provenance": []
    },
    "kernelspec": {
      "name": "python3",
      "display_name": "Python 3"
    },
    "language_info": {
      "name": "python"
    }
  },
  "cells": [
    {
      "cell_type": "markdown",
      "source": [
        "# Упражнение 3. Выполнить парсинг коллекции данных на Портале открытых данных Правительства Москвы( при отсутствии доступа к Порталу https://rosstat.gov.ru/) . Выявить показатели в наборе данных (на основании упражнения 1.1.):"
      ],
      "metadata": {
        "id": "seSyb4ZXjLi5"
      }
    },
    {
      "cell_type": "markdown",
      "source": [
        " Так как не получилось соединиться с росстатом использовал API RandomUser\n",
        "\n",
        "---\n",
        "\n",
        "\n",
        "(Получает информацию о случайном фейковом пользователе, включая пол, имя, электронную почту, адрес и т.д.)"
      ],
      "metadata": {
        "id": "6-iooAfzjbiU"
      }
    },
    {
      "cell_type": "code",
      "source": [
        "# Импорт стандартных пакетов\n",
        "import pandas as pd\n",
        "\n",
        "# Для парсинга веб-страниц\n",
        "import requests as reqs\n",
        "import urllib.request\n",
        "from bs4 import BeautifulSoup\n",
        "import json\n",
        "import os\n",
        "import pprint\n",
        "\n",
        "# Для выполнения операций с регулярными выражениями\n",
        "import re"
      ],
      "metadata": {
        "id": "l_oW-DXhksu2"
      },
      "execution_count": 16,
      "outputs": []
    },
    {
      "cell_type": "code",
      "source": [
        "api_url='https://randomuser.me/api/'"
      ],
      "metadata": {
        "id": "HTc3lQp48pJo"
      },
      "execution_count": 17,
      "outputs": []
    },
    {
      "cell_type": "code",
      "source": [
        "resp = reqs.request(method='GET', url=api_url)\n",
        "print(resp.json())"
      ],
      "metadata": {
        "colab": {
          "base_uri": "https://localhost:8080/"
        },
        "id": "FKOMnvGCpr5L",
        "outputId": "2b42c6cb-813b-4406-9658-d81f8c045e70"
      },
      "execution_count": 18,
      "outputs": [
        {
          "output_type": "stream",
          "name": "stdout",
          "text": [
            "{'results': [{'gender': 'female', 'name': {'title': 'Miss', 'first': 'Sophia', 'last': 'Ma'}, 'location': {'street': {'number': 6531, 'name': 'York St'}, 'city': 'Lloydminster', 'state': 'British Columbia', 'country': 'Canada', 'postcode': 'O4U 5Y0', 'coordinates': {'latitude': '-66.2111', 'longitude': '128.4187'}, 'timezone': {'offset': '+5:45', 'description': 'Kathmandu'}}, 'email': 'sophia.ma@example.com', 'login': {'uuid': 'f90caf81-aacc-451a-b814-2e360730174b', 'username': 'crazydog919', 'password': 'altima', 'salt': 'PYYxhP8G', 'md5': 'a3e563dd72e5e6a1145be6d07248ea08', 'sha1': 'ac21a92a9a23fb6baf17d2edcdcfbdf59ee58034', 'sha256': '20c315c598c243ffd1d27d0652c5fc7f5a794a6e63d11d2fc20bc7ad23a6162b'}, 'dob': {'date': '1956-05-22T23:16:10.289Z', 'age': 67}, 'registered': {'date': '2010-04-29T16:01:23.737Z', 'age': 13}, 'phone': 'L20 C42-7537', 'cell': 'Y40 E98-0339', 'id': {'name': 'SIN', 'value': '119618213'}, 'picture': {'large': 'https://randomuser.me/api/portraits/women/2.jpg', 'medium': 'https://randomuser.me/api/portraits/med/women/2.jpg', 'thumbnail': 'https://randomuser.me/api/portraits/thumb/women/2.jpg'}, 'nat': 'CA'}], 'info': {'seed': '34a957c95f1a6118', 'results': 1, 'page': 1, 'version': '1.4'}}\n"
          ]
        }
      ]
    },
    {
      "cell_type": "code",
      "source": [
        "json_page = resp.json()\n",
        "file_name = \"user.json\"\n",
        "with open(file_name, \"w\") as fid:\n",
        "     json.dump(json_page, fid)"
      ],
      "metadata": {
        "id": "N4rZg1zY9Cs7"
      },
      "execution_count": 19,
      "outputs": []
    },
    {
      "cell_type": "code",
      "source": [
        "!cat user.json"
      ],
      "metadata": {
        "colab": {
          "base_uri": "https://localhost:8080/"
        },
        "id": "A4KrqY0-9Fpn",
        "outputId": "6d98476b-0508-488c-f888-52adfd366978"
      },
      "execution_count": 20,
      "outputs": [
        {
          "output_type": "stream",
          "name": "stdout",
          "text": [
            "{\"results\": [{\"gender\": \"female\", \"name\": {\"title\": \"Miss\", \"first\": \"Sophia\", \"last\": \"Ma\"}, \"location\": {\"street\": {\"number\": 6531, \"name\": \"York St\"}, \"city\": \"Lloydminster\", \"state\": \"British Columbia\", \"country\": \"Canada\", \"postcode\": \"O4U 5Y0\", \"coordinates\": {\"latitude\": \"-66.2111\", \"longitude\": \"128.4187\"}, \"timezone\": {\"offset\": \"+5:45\", \"description\": \"Kathmandu\"}}, \"email\": \"sophia.ma@example.com\", \"login\": {\"uuid\": \"f90caf81-aacc-451a-b814-2e360730174b\", \"username\": \"crazydog919\", \"password\": \"altima\", \"salt\": \"PYYxhP8G\", \"md5\": \"a3e563dd72e5e6a1145be6d07248ea08\", \"sha1\": \"ac21a92a9a23fb6baf17d2edcdcfbdf59ee58034\", \"sha256\": \"20c315c598c243ffd1d27d0652c5fc7f5a794a6e63d11d2fc20bc7ad23a6162b\"}, \"dob\": {\"date\": \"1956-05-22T23:16:10.289Z\", \"age\": 67}, \"registered\": {\"date\": \"2010-04-29T16:01:23.737Z\", \"age\": 13}, \"phone\": \"L20 C42-7537\", \"cell\": \"Y40 E98-0339\", \"id\": {\"name\": \"SIN\", \"value\": \"119618213\"}, \"picture\": {\"large\": \"https://randomuser.me/api/portraits/women/2.jpg\", \"medium\": \"https://randomuser.me/api/portraits/med/women/2.jpg\", \"thumbnail\": \"https://randomuser.me/api/portraits/thumb/women/2.jpg\"}, \"nat\": \"CA\"}], \"info\": {\"seed\": \"34a957c95f1a6118\", \"results\": 1, \"page\": 1, \"version\": \"1.4\"}}"
          ]
        }
      ]
    },
    {
      "cell_type": "code",
      "source": [
        "with open(file_name, \"r\") as fid:\n",
        "     json_obj = json.load(fid)\n",
        "\n",
        "print(json_obj)"
      ],
      "metadata": {
        "colab": {
          "base_uri": "https://localhost:8080/"
        },
        "id": "8nUYH8SD9H5U",
        "outputId": "7a2883b8-be04-4972-f877-cb422b42d81b"
      },
      "execution_count": 21,
      "outputs": [
        {
          "output_type": "stream",
          "name": "stdout",
          "text": [
            "{'results': [{'gender': 'female', 'name': {'title': 'Miss', 'first': 'Sophia', 'last': 'Ma'}, 'location': {'street': {'number': 6531, 'name': 'York St'}, 'city': 'Lloydminster', 'state': 'British Columbia', 'country': 'Canada', 'postcode': 'O4U 5Y0', 'coordinates': {'latitude': '-66.2111', 'longitude': '128.4187'}, 'timezone': {'offset': '+5:45', 'description': 'Kathmandu'}}, 'email': 'sophia.ma@example.com', 'login': {'uuid': 'f90caf81-aacc-451a-b814-2e360730174b', 'username': 'crazydog919', 'password': 'altima', 'salt': 'PYYxhP8G', 'md5': 'a3e563dd72e5e6a1145be6d07248ea08', 'sha1': 'ac21a92a9a23fb6baf17d2edcdcfbdf59ee58034', 'sha256': '20c315c598c243ffd1d27d0652c5fc7f5a794a6e63d11d2fc20bc7ad23a6162b'}, 'dob': {'date': '1956-05-22T23:16:10.289Z', 'age': 67}, 'registered': {'date': '2010-04-29T16:01:23.737Z', 'age': 13}, 'phone': 'L20 C42-7537', 'cell': 'Y40 E98-0339', 'id': {'name': 'SIN', 'value': '119618213'}, 'picture': {'large': 'https://randomuser.me/api/portraits/women/2.jpg', 'medium': 'https://randomuser.me/api/portraits/med/women/2.jpg', 'thumbnail': 'https://randomuser.me/api/portraits/thumb/women/2.jpg'}, 'nat': 'CA'}], 'info': {'seed': '34a957c95f1a6118', 'results': 1, 'page': 1, 'version': '1.4'}}\n"
          ]
        }
      ]
    },
    {
      "cell_type": "code",
      "source": [
        "for key in json_obj:\n",
        "    print(\"{:>12}: {}\".format(key, json_obj[key]))"
      ],
      "metadata": {
        "colab": {
          "base_uri": "https://localhost:8080/"
        },
        "id": "1b1Ze5P_9KBI",
        "outputId": "04314308-3249-4d47-e212-1c36bc15503d"
      },
      "execution_count": 22,
      "outputs": [
        {
          "output_type": "stream",
          "name": "stdout",
          "text": [
            "     results: [{'gender': 'female', 'name': {'title': 'Miss', 'first': 'Sophia', 'last': 'Ma'}, 'location': {'street': {'number': 6531, 'name': 'York St'}, 'city': 'Lloydminster', 'state': 'British Columbia', 'country': 'Canada', 'postcode': 'O4U 5Y0', 'coordinates': {'latitude': '-66.2111', 'longitude': '128.4187'}, 'timezone': {'offset': '+5:45', 'description': 'Kathmandu'}}, 'email': 'sophia.ma@example.com', 'login': {'uuid': 'f90caf81-aacc-451a-b814-2e360730174b', 'username': 'crazydog919', 'password': 'altima', 'salt': 'PYYxhP8G', 'md5': 'a3e563dd72e5e6a1145be6d07248ea08', 'sha1': 'ac21a92a9a23fb6baf17d2edcdcfbdf59ee58034', 'sha256': '20c315c598c243ffd1d27d0652c5fc7f5a794a6e63d11d2fc20bc7ad23a6162b'}, 'dob': {'date': '1956-05-22T23:16:10.289Z', 'age': 67}, 'registered': {'date': '2010-04-29T16:01:23.737Z', 'age': 13}, 'phone': 'L20 C42-7537', 'cell': 'Y40 E98-0339', 'id': {'name': 'SIN', 'value': '119618213'}, 'picture': {'large': 'https://randomuser.me/api/portraits/women/2.jpg', 'medium': 'https://randomuser.me/api/portraits/med/women/2.jpg', 'thumbnail': 'https://randomuser.me/api/portraits/thumb/women/2.jpg'}, 'nat': 'CA'}]\n",
            "        info: {'seed': '34a957c95f1a6118', 'results': 1, 'page': 1, 'version': '1.4'}\n"
          ]
        }
      ]
    },
    {
      "cell_type": "code",
      "source": [
        "response = reqs.get(api_url)"
      ],
      "metadata": {
        "id": "8Jj1yNGP9Owg"
      },
      "execution_count": 23,
      "outputs": []
    },
    {
      "cell_type": "code",
      "source": [
        "if response.status_code == 200:\n",
        "   json_page = json.loads(response.text)"
      ],
      "metadata": {
        "id": "pcXI-Izc9RQ_"
      },
      "execution_count": 24,
      "outputs": []
    },
    {
      "cell_type": "code",
      "source": [
        "print(f\"URL: \\n\\t {response.url}\")"
      ],
      "metadata": {
        "colab": {
          "base_uri": "https://localhost:8080/"
        },
        "id": "qihCwqo-9Ttz",
        "outputId": "8da16a01-135c-4d55-d32f-49446afc0a47"
      },
      "execution_count": 25,
      "outputs": [
        {
          "output_type": "stream",
          "name": "stdout",
          "text": [
            "URL: \n",
            "\t https://randomuser.me/api/\n"
          ]
        }
      ]
    },
    {
      "cell_type": "code",
      "source": [
        "print(f\"Content type: \\n\\t {response.headers['content-type']}\")"
      ],
      "metadata": {
        "colab": {
          "base_uri": "https://localhost:8080/"
        },
        "id": "bue_FloL9WoF",
        "outputId": "e1693cbc-1801-47de-adf8-b261870658a1"
      },
      "execution_count": 26,
      "outputs": [
        {
          "output_type": "stream",
          "name": "stdout",
          "text": [
            "Content type: \n",
            "\t application/json; charset=utf-8\n"
          ]
        }
      ]
    },
    {
      "cell_type": "code",
      "source": [
        "if response.status_code == 200:\n",
        "   json_page = json.loads(response.text)"
      ],
      "metadata": {
        "id": "5sS_Xc7p9Y4n"
      },
      "execution_count": 27,
      "outputs": []
    },
    {
      "cell_type": "code",
      "source": [
        "for x in json_page:\n",
        "    print(x)"
      ],
      "metadata": {
        "colab": {
          "base_uri": "https://localhost:8080/"
        },
        "id": "DFdQd9KK9ZZ7",
        "outputId": "f0d56257-a674-4fa3-f589-31df1a011b8f"
      },
      "execution_count": 28,
      "outputs": [
        {
          "output_type": "stream",
          "name": "stdout",
          "text": [
            "results\n",
            "info\n"
          ]
        }
      ]
    },
    {
      "cell_type": "code",
      "source": [
        "for x in json_page:\n",
        "    print(f\"{x} --> {json_page[x]} \\n\")"
      ],
      "metadata": {
        "colab": {
          "base_uri": "https://localhost:8080/"
        },
        "id": "uh23L1UI9cyL",
        "outputId": "83d6ecf8-eadf-4def-c6ec-5590be5d00eb"
      },
      "execution_count": 29,
      "outputs": [
        {
          "output_type": "stream",
          "name": "stdout",
          "text": [
            "results --> [{'gender': 'female', 'name': {'title': 'Ms', 'first': 'Elsa', 'last': 'Mikkola'}, 'location': {'street': {'number': 6202, 'name': 'Rotuaari'}, 'city': 'Ingå', 'state': 'Finland Proper', 'country': 'Finland', 'postcode': 31773, 'coordinates': {'latitude': '-28.7541', 'longitude': '164.0365'}, 'timezone': {'offset': '+9:30', 'description': 'Adelaide, Darwin'}}, 'email': 'elsa.mikkola@example.com', 'login': {'uuid': '39be9b21-3134-444e-a15c-f85084dc5f61', 'username': 'silverwolf594', 'password': 'fdm7ed', 'salt': 'emstt5Nh', 'md5': 'ee00dd6b02bd404723bc1c11cc0ce6ad', 'sha1': '27d85e0981a15e16c4ef2728281b2e167139a16c', 'sha256': 'ac12416246081ee8ea165b4088d00413da40d5776b5bf54212f4979d89bfaff8'}, 'dob': {'date': '1964-03-30T02:43:40.890Z', 'age': 59}, 'registered': {'date': '2002-11-25T16:17:41.688Z', 'age': 21}, 'phone': '04-883-941', 'cell': '046-058-43-16', 'id': {'name': 'HETU', 'value': 'NaNNA682undefined'}, 'picture': {'large': 'https://randomuser.me/api/portraits/women/53.jpg', 'medium': 'https://randomuser.me/api/portraits/med/women/53.jpg', 'thumbnail': 'https://randomuser.me/api/portraits/thumb/women/53.jpg'}, 'nat': 'FI'}] \n",
            "\n",
            "info --> {'seed': 'ebd5b3a76b35cfdd', 'results': 1, 'page': 1, 'version': '1.4'} \n",
            "\n"
          ]
        }
      ]
    },
    {
      "cell_type": "code",
      "source": [
        "pprint.pprint(json_page)"
      ],
      "metadata": {
        "colab": {
          "base_uri": "https://localhost:8080/"
        },
        "id": "um0iIZKc9ekj",
        "outputId": "870fb177-6b18-435c-af48-54c2644c9056"
      },
      "execution_count": 30,
      "outputs": [
        {
          "output_type": "stream",
          "name": "stdout",
          "text": [
            "{'info': {'page': 1,\n",
            "          'results': 1,\n",
            "          'seed': 'ebd5b3a76b35cfdd',\n",
            "          'version': '1.4'},\n",
            " 'results': [{'cell': '046-058-43-16',\n",
            "              'dob': {'age': 59, 'date': '1964-03-30T02:43:40.890Z'},\n",
            "              'email': 'elsa.mikkola@example.com',\n",
            "              'gender': 'female',\n",
            "              'id': {'name': 'HETU', 'value': 'NaNNA682undefined'},\n",
            "              'location': {'city': 'Ingå',\n",
            "                           'coordinates': {'latitude': '-28.7541',\n",
            "                                           'longitude': '164.0365'},\n",
            "                           'country': 'Finland',\n",
            "                           'postcode': 31773,\n",
            "                           'state': 'Finland Proper',\n",
            "                           'street': {'name': 'Rotuaari', 'number': 6202},\n",
            "                           'timezone': {'description': 'Adelaide, Darwin',\n",
            "                                        'offset': '+9:30'}},\n",
            "              'login': {'md5': 'ee00dd6b02bd404723bc1c11cc0ce6ad',\n",
            "                        'password': 'fdm7ed',\n",
            "                        'salt': 'emstt5Nh',\n",
            "                        'sha1': '27d85e0981a15e16c4ef2728281b2e167139a16c',\n",
            "                        'sha256': 'ac12416246081ee8ea165b4088d00413da40d5776b5bf54212f4979d89bfaff8',\n",
            "                        'username': 'silverwolf594',\n",
            "                        'uuid': '39be9b21-3134-444e-a15c-f85084dc5f61'},\n",
            "              'name': {'first': 'Elsa', 'last': 'Mikkola', 'title': 'Ms'},\n",
            "              'nat': 'FI',\n",
            "              'phone': '04-883-941',\n",
            "              'picture': {'large': 'https://randomuser.me/api/portraits/women/53.jpg',\n",
            "                          'medium': 'https://randomuser.me/api/portraits/med/women/53.jpg',\n",
            "                          'thumbnail': 'https://randomuser.me/api/portraits/thumb/women/53.jpg'},\n",
            "              'registered': {'age': 21, 'date': '2002-11-25T16:17:41.688Z'}}]}\n"
          ]
        }
      ]
    }
  ]
}